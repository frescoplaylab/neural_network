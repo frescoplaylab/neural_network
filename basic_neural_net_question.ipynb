{
  "nbformat": 4,
  "nbformat_minor": 0,
  "metadata": {
    "colab": {
      "name": "basic_neural_net_question.ipynb",
      "version": "0.3.2",
      "views": {},
      "default_view": {},
      "provenance": [
        {
          "file_id": "1TvidTe-M5zDO1MDKJCBMnkMGgXbCxYA4",
          "timestamp": 1525431729338
        }
      ],
      "collapsed_sections": []
    },
    "kernelspec": {
      "name": "python2",
      "display_name": "Python 2"
    }
  },
  "cells": [
    {
      "metadata": {
        "id": "ld2wHkzA8K2e",
        "colab_type": "text"
      },
      "cell_type": "markdown",
      "source": [
        "- Import numpy as np and pandas as pd"
      ]
    },
    {
      "metadata": {
        "id": "0zQIrieYs0N9",
        "colab_type": "code",
        "colab": {
          "autoexec": {
            "startup": false,
            "wait_interval": 0
          }
        }
      },
      "cell_type": "code",
      "source": [
        "import numpy as np\n",
        "import pandas as pd\n",
        "from sklearn.model_selection import train_test_split\n",
        "from sklearn.datasets import load_breast_cancer"
      ],
      "execution_count": 0,
      "outputs": []
    },
    {
      "metadata": {
        "id": "5wsb69rS8abF",
        "colab_type": "text"
      },
      "cell_type": "markdown",
      "source": [
        "Define method initialiseNetwork() initilise weights with zeros of shape(num_features, 1) and also bias b to zero\n",
        "- parameters: num_features(number of input features)\n",
        "- returns : dictionary of weight vector and bias"
      ]
    },
    {
      "metadata": {
        "id": "i-wLAlQb2Drk",
        "colab_type": "code",
        "colab": {
          "autoexec": {
            "startup": false,
            "wait_interval": 0
          }
        }
      },
      "cell_type": "code",
      "source": [
        "def initialiseNetwork(num_features):\n",
        "  W = \n",
        "  b = \n",
        "  parameters = {\"W\": W, \"b\": b}\n",
        "  return parameters"
      ],
      "execution_count": 0,
      "outputs": []
    },
    {
      "metadata": {
        "id": "g2iUMm9XEW-s",
        "colab_type": "text"
      },
      "cell_type": "markdown",
      "source": [
        "define function sigmoid for the input z.  \n",
        "- parameters: z\n",
        "- returns: $1/(1+e^{(-z)})$"
      ]
    },
    {
      "metadata": {
        "id": "a_KB1o_e9S8F",
        "colab_type": "code",
        "colab": {
          "autoexec": {
            "startup": false,
            "wait_interval": 0
          }
        }
      },
      "cell_type": "code",
      "source": [
        "def sigmoid(z):\n",
        "  a = \n",
        "  return a"
      ],
      "execution_count": 0,
      "outputs": []
    },
    {
      "metadata": {
        "id": "G6TAbtJAFSva",
        "colab_type": "text"
      },
      "cell_type": "markdown",
      "source": [
        "Define method forwardPropagation() which implements forward propagtion defined as Z = (W.T dot_product X) + b, A = sigmoid(Z)\n",
        "- parameters: X, parameters\n",
        "- returns: A\n"
      ]
    },
    {
      "metadata": {
        "id": "l6FZS2nj92ev",
        "colab_type": "code",
        "colab": {
          "autoexec": {
            "startup": false,
            "wait_interval": 0
          }
        }
      },
      "cell_type": "code",
      "source": [
        "def forwardPropagation(X, parameters):\n",
        "  W =\n",
        "  b = \n",
        "  Z = \n",
        "  A = \n",
        "  return A"
      ],
      "execution_count": 0,
      "outputs": []
    },
    {
      "metadata": {
        "id": "IhMJx-ezHXWx",
        "colab_type": "text"
      },
      "cell_type": "markdown",
      "source": [
        "Define function cost() which calculate the cost given by  −(sum(Y\\*log(A)+(1−Y)\\*log(1−A)))/num_samples, here * is elementwise product\n",
        "- parameters: A,Y,num_samples(number of samples)\n",
        "- returns: cost"
      ]
    },
    {
      "metadata": {
        "id": "n52Rl7oCBj1L",
        "colab_type": "code",
        "colab": {
          "autoexec": {
            "startup": false,
            "wait_interval": 0
          }
        }
      },
      "cell_type": "code",
      "source": [
        "def cost(A, Y, num_samples):\n",
        "  cost = \n",
        "  return cost"
      ],
      "execution_count": 0,
      "outputs": []
    },
    {
      "metadata": {
        "id": "jxXnhjd6ItFC",
        "colab_type": "text"
      },
      "cell_type": "markdown",
      "source": [
        "Define method backPropgation() to get the derivatives of weigths and bias\n",
        "- parameters: X,Y,A,num_samples\n",
        "- returns: dW,db"
      ]
    },
    {
      "metadata": {
        "id": "U0ijyoESSGRT",
        "colab_type": "code",
        "colab": {
          "autoexec": {
            "startup": false,
            "wait_interval": 0
          }
        }
      },
      "cell_type": "code",
      "source": [
        "def backPropagration(X, Y, A, num_samples):\n",
        "  dZ =                           \n",
        "  dW =                                #(X dot_product dZ.T)/num_samples\n",
        "  db =                                #sum(dZ)/num_samples\n",
        "  return dW, db\n",
        "  "
      ],
      "execution_count": 0,
      "outputs": []
    },
    {
      "metadata": {
        "id": "Yrclev_VKliY",
        "colab_type": "text"
      },
      "cell_type": "markdown",
      "source": [
        "Define function updateParameters() to update current parameters with its derivatives  \n",
        "w = w - learning_rate \\* dw  \n",
        "b = b - learning_rate \\* db  \n",
        "parameters: parameters,dW,db, learning_rate   \n",
        "returns: dictionary of updated parameters"
      ]
    },
    {
      "metadata": {
        "id": "9K1ubERjUdKj",
        "colab_type": "code",
        "colab": {
          "autoexec": {
            "startup": false,
            "wait_interval": 0
          }
        }
      },
      "cell_type": "code",
      "source": [
        "def updateParameters(parameters, dW, db, learning_rate):\n",
        "  W =\n",
        "  b = \n",
        "  return {\"W\": W, \"b\": b}\n",
        "  "
      ],
      "execution_count": 0,
      "outputs": []
    },
    {
      "metadata": {
        "id": "zKd5Nsvht5W7",
        "colab_type": "text"
      },
      "cell_type": "markdown",
      "source": [
        "Define the model for forward propagation  \n",
        "- parameters: X,Y, num_iter(number of iterations), learning_rate\n",
        "- returns: parameters(dictionary of updated weights and bias)"
      ]
    },
    {
      "metadata": {
        "id": "_QP4zvtoWkzw",
        "colab_type": "code",
        "colab": {
          "autoexec": {
            "startup": false,
            "wait_interval": 0
          }
        }
      },
      "cell_type": "code",
      "source": [
        "def model(X, Y, num_iter, learning_rate):\n",
        "  num_features = X.shape[0]\n",
        "  num_samples = X.shape[1]\n",
        "  parameters =                                                     #call initialiseNetwork()\n",
        "  for i in range(num_iter):\n",
        "    A =                                                            # calculate final output A from forwardPropagation()\n",
        "    if(i%100 == 0):\n",
        "      print(\"cost after {} iteration: {}\".format(i, cost(A, Y, num_samples)))\n",
        "    dW, db =                                                       # calculate  derivatives from backpropagation\n",
        "    parameters =                                                   # update parameters\n",
        "  return parameters\n",
        "    \n",
        "    \n",
        "  "
      ],
      "execution_count": 0,
      "outputs": []
    },
    {
      "metadata": {
        "id": "ISQKBz3DoY_h",
        "colab_type": "text"
      },
      "cell_type": "markdown",
      "source": [
        "- Run the below cell to define the function to predict the output.It takes updated parameters and input data as function parameters and returns the predicted output"
      ]
    },
    {
      "metadata": {
        "id": "RdK-4V8dZWmZ",
        "colab_type": "code",
        "colab": {
          "autoexec": {
            "startup": false,
            "wait_interval": 0
          }
        }
      },
      "cell_type": "code",
      "source": [
        "def predict(W, b, X):\n",
        "  Z = np.dot(W.T,X) + b\n",
        "  Y = np.array([1 if y > 0.5 else 0 for y in sigmoid(Z[0])]).reshape(1,len(Z[0]))\n",
        "  return Y"
      ],
      "execution_count": 0,
      "outputs": []
    },
    {
      "metadata": {
        "id": "RN1AAlHbo7XF",
        "colab_type": "text"
      },
      "cell_type": "markdown",
      "source": [
        "- The code in the below cell loads the breast cancer data set from sklearn.\n",
        "- The input variable(X_cancer) is about the dimensions of tumor cell and targrt variable(y_cancer) classifies tumor as malignant(0) or benign(1)"
      ]
    },
    {
      "metadata": {
        "id": "ai5s9pFFgG5g",
        "colab_type": "code",
        "colab": {
          "autoexec": {
            "startup": false,
            "wait_interval": 0
          }
        }
      },
      "cell_type": "code",
      "source": [
        "(X_cancer, y_cancer) = load_breast_cancer(return_X_y = True)\n"
      ],
      "execution_count": 0,
      "outputs": []
    },
    {
      "metadata": {
        "id": "jUzT0JXXszzy",
        "colab_type": "text"
      },
      "cell_type": "markdown",
      "source": [
        "- Split the data into train and test set using train_test_split(). Set the random state to 25. Refer the code snippet in topic 4"
      ]
    },
    {
      "metadata": {
        "id": "nw_FdO__3dsF",
        "colab_type": "code",
        "colab": {
          "autoexec": {
            "startup": false,
            "wait_interval": 0
          }
        }
      },
      "cell_type": "code",
      "source": [
        "X_train, X_test, y_train, y_test = train_test_split(X_cancer, y_cancer,\n",
        "                                                   random_state = 25)"
      ],
      "execution_count": 0,
      "outputs": []
    },
    {
      "metadata": {
        "id": "t-ZRhhx0sGR7",
        "colab_type": "text"
      },
      "cell_type": "markdown",
      "source": [
        "Since the dimensions of tumor is not uniform you need to normalize the data before feeding to the network\n",
        "- The below function is used to normalize the input data."
      ]
    },
    {
      "metadata": {
        "id": "VR2PXnUDXtNd",
        "colab_type": "code",
        "colab": {
          "autoexec": {
            "startup": false,
            "wait_interval": 0
          }
        }
      },
      "cell_type": "code",
      "source": [
        "def normalize(data):\n",
        "  col_max = np.max(data, axis = 0)\n",
        "  col_min = np.min(data, axis = 0)\n",
        "  return np.divide(data - col_min, col_max - col_min)"
      ],
      "execution_count": 0,
      "outputs": []
    },
    {
      "metadata": {
        "id": "39IvMOIzt_fS",
        "colab_type": "text"
      },
      "cell_type": "markdown",
      "source": [
        "- Normalize X_train and X_test and assign it to X_train_n and X_test_n respectively"
      ]
    },
    {
      "metadata": {
        "id": "ZgXdiH5QIAjV",
        "colab_type": "code",
        "colab": {
          "autoexec": {
            "startup": false,
            "wait_interval": 0
          }
        }
      },
      "cell_type": "code",
      "source": [
        "X_train_n = \n",
        "X_test_n = "
      ],
      "execution_count": 0,
      "outputs": []
    },
    {
      "metadata": {
        "id": "agS5nYAtuUng",
        "colab_type": "text"
      },
      "cell_type": "markdown",
      "source": [
        "- Transpose X_train_n and X_test_n so that rows represents features and column represents the samples\n",
        "- Reshape Y_train and y_test into row vector whose length is equal to number of samples.Use np.reshape()\n",
        "\n"
      ]
    },
    {
      "metadata": {
        "id": "yNFw2Gos9zZe",
        "colab_type": "code",
        "colab": {
          "autoexec": {
            "startup": false,
            "wait_interval": 0
          }
        }
      },
      "cell_type": "code",
      "source": [
        "X_trainT = \n",
        "X_testT = \n",
        "y_trainT = \n",
        "y_testT = "
      ],
      "execution_count": 0,
      "outputs": []
    },
    {
      "metadata": {
        "id": "GP3WCFJbv-xE",
        "colab_type": "text"
      },
      "cell_type": "markdown",
      "source": [
        "Train the network using X_trainT,y_trainT with number of iterations 4000 and learning rate 0.75"
      ]
    },
    {
      "metadata": {
        "id": "6mGd_FK7GqHu",
        "colab_type": "code",
        "colab": {
          "autoexec": {
            "startup": false,
            "wait_interval": 0
          }
        }
      },
      "cell_type": "code",
      "source": [
        "parameters =                     #call the model() function with parametrs mentioned in the above cell"
      ],
      "execution_count": 0,
      "outputs": []
    },
    {
      "metadata": {
        "id": "_YEgmlbxx11F",
        "colab_type": "text"
      },
      "cell_type": "markdown",
      "source": [
        "Predict the output of test and train data using X_trainT and X_testT using predict() method> Use the parametes returned from the trained model\n"
      ]
    },
    {
      "metadata": {
        "id": "2GMgr9M8LqTn",
        "colab_type": "code",
        "colab": {
          "autoexec": {
            "startup": false,
            "wait_interval": 0
          }
        }
      },
      "cell_type": "code",
      "source": [
        "yPredTrain = predict()   # pass weigths and bias from parameters dictionary and X_trainT as input to the function\n",
        "yPredTest = predict()    # pass the same parameters but X_testT as input data"
      ],
      "execution_count": 0,
      "outputs": []
    },
    {
      "metadata": {
        "id": "Uv1oAgLW1a1E",
        "colab_type": "text"
      },
      "cell_type": "markdown",
      "source": [
        "Run the below cell print the accuracy of model on train and test data."
      ]
    },
    {
      "metadata": {
        "id": "nIX7sMq7QmCs",
        "colab_type": "code",
        "colab": {
          "autoexec": {
            "startup": false,
            "wait_interval": 0
          }
        }
      },
      "cell_type": "code",
      "source": [
        "accuracy_train = 100 - np.mean(np.abs(yPredTrain - y_data)) * 100\n",
        "accuracy_test = 100 - np.mean(np.abs(yPredTest - y_test)) * 100\n",
        "print(\"train accuracy: {} %\".format(accuracy_train))\n",
        "print(\"test accuracy: {} %\".format(accuracy_test))\n",
        "with open(\"Output.txt\", \"w\") as text_file:\n",
        "  text_file.write(\"train= %f\\n\" % accuracy_train)\n",
        "  text_file.write(\"test= %f\" % accuracy_test)"
      ],
      "execution_count": 0,
      "outputs": []
    },
    {
      "metadata": {
        "id": "6RDW0GQbGWcU",
        "colab_type": "code",
        "colab": {
          "autoexec": {
            "startup": false,
            "wait_interval": 0
          }
        }
      },
      "cell_type": "code",
      "source": [
        ""
      ],
      "execution_count": 0,
      "outputs": []
    },
    {
      "metadata": {
        "id": "1d4w6pyXGZnk",
        "colab_type": "code",
        "colab": {
          "autoexec": {
            "startup": false,
            "wait_interval": 0
          }
        }
      },
      "cell_type": "code",
      "source": [
        ""
      ],
      "execution_count": 0,
      "outputs": []
    },
    {
      "metadata": {
        "id": "cs4swwDePrKZ",
        "colab_type": "code",
        "colab": {
          "autoexec": {
            "startup": false,
            "wait_interval": 0
          }
        }
      },
      "cell_type": "code",
      "source": [
        ""
      ],
      "execution_count": 0,
      "outputs": []
    },
    {
      "metadata": {
        "id": "bzcBM4bUTV5Y",
        "colab_type": "code",
        "colab": {
          "autoexec": {
            "startup": false,
            "wait_interval": 0
          }
        }
      },
      "cell_type": "code",
      "source": [
        ""
      ],
      "execution_count": 0,
      "outputs": []
    }
  ]
}