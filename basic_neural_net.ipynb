{
  "nbformat": 4,
  "nbformat_minor": 0,
  "metadata": {
    "colab": {
      "name": "basic_neural_net.ipynb",
      "version": "0.3.2",
      "views": {},
      "default_view": {},
      "provenance": [],
      "collapsed_sections": []
    },
    "kernelspec": {
      "name": "python2",
      "display_name": "Python 2"
    }
  },
  "cells": [
    {
      "metadata": {
        "id": "0zQIrieYs0N9",
        "colab_type": "code",
        "colab": {
          "autoexec": {
            "startup": false,
            "wait_interval": 0
          }
        }
      },
      "cell_type": "code",
      "source": [
        "import numpy as np\n",
        "import pandas as pd\n",
        "from sklearn.model_selection import train_test_split\n",
        "from sklearn.datasets import load_breast_cancer"
      ],
      "execution_count": 0,
      "outputs": []
    },
    {
      "metadata": {
        "id": "i-wLAlQb2Drk",
        "colab_type": "code",
        "colab": {
          "autoexec": {
            "startup": false,
            "wait_interval": 0
          }
        }
      },
      "cell_type": "code",
      "source": [
        "def initialiseNetwork(num_features):\n",
        "  W = np.zeros((num_features, 1))\n",
        "  b = 0\n",
        "  parameters = {\"W\": W, \"b\": b}\n",
        "  return parameters"
      ],
      "execution_count": 0,
      "outputs": []
    },
    {
      "metadata": {
        "id": "a_KB1o_e9S8F",
        "colab_type": "code",
        "colab": {
          "autoexec": {
            "startup": false,
            "wait_interval": 0
          }
        }
      },
      "cell_type": "code",
      "source": [
        "def sigmoid(z):\n",
        "  return 1/(1 + np.exp(-z))"
      ],
      "execution_count": 0,
      "outputs": []
    },
    {
      "metadata": {
        "id": "l6FZS2nj92ev",
        "colab_type": "code",
        "colab": {
          "autoexec": {
            "startup": false,
            "wait_interval": 0
          }
        }
      },
      "cell_type": "code",
      "source": [
        "def forwardPropagation(X, Y, parameters):\n",
        "  W = parameters[\"W\"]\n",
        "  b = parameters[\"b\"]\n",
        "  Z = np.dot(W.T, X) + b\n",
        "  A = sigmoid(Z)\n",
        "  return A"
      ],
      "execution_count": 0,
      "outputs": []
    },
    {
      "metadata": {
        "id": "n52Rl7oCBj1L",
        "colab_type": "code",
        "colab": {
          "autoexec": {
            "startup": false,
            "wait_interval": 0
          }
        }
      },
      "cell_type": "code",
      "source": [
        "def cost(A, Y, num_samples):\n",
        "  return -1/num_samples *np.sum(Y*np.log(A) + (1-Y)*(np.log(1-A)))"
      ],
      "execution_count": 0,
      "outputs": []
    },
    {
      "metadata": {
        "id": "U0ijyoESSGRT",
        "colab_type": "code",
        "colab": {
          "autoexec": {
            "startup": false,
            "wait_interval": 0
          }
        }
      },
      "cell_type": "code",
      "source": [
        "def backPropagration(X, Y, A, num_samples):\n",
        "  dZ = A - Y\n",
        "  dW = (np.dot(X, dZ.T))/num_samples\n",
        "  db = np.sum(dZ)/num_samples\n",
        "  return dW, db\n",
        "  "
      ],
      "execution_count": 0,
      "outputs": []
    },
    {
      "metadata": {
        "id": "9K1ubERjUdKj",
        "colab_type": "code",
        "colab": {
          "autoexec": {
            "startup": false,
            "wait_interval": 0
          }
        }
      },
      "cell_type": "code",
      "source": [
        "def updateParameters(parameters, dW, db, learning_rate):\n",
        "  W = parameters[\"W\"] - (learning_rate * dW)\n",
        "  b = parameters[\"b\"] - (learning_rate * db)\n",
        "  return {\"W\": W, \"b\": b}\n",
        "  "
      ],
      "execution_count": 0,
      "outputs": []
    },
    {
      "metadata": {
        "id": "_QP4zvtoWkzw",
        "colab_type": "code",
        "colab": {
          "autoexec": {
            "startup": false,
            "wait_interval": 0
          }
        }
      },
      "cell_type": "code",
      "source": [
        "def model(X, Y, num_iter, learning_rate):\n",
        "  num_features = X.shape[0]\n",
        "  num_samples = float(X.shape[1])\n",
        "  parameters = initialiseNetwork(num_features)\n",
        "  for i in range(num_iter):\n",
        "    A = forwardPropagation(X, Y, parameters)\n",
        "    if(i%100 == 0):\n",
        "      print(\"cost after {} iteration: {}\".format(i, cost(A, Y, num_samples)))\n",
        "    dW, db = backPropagration(X, Y, A, num_samples)\n",
        "    parameters = updateParameters(parameters, dW, db, learning_rate)\n",
        "  return parameters\n",
        "    \n",
        "    \n",
        "  "
      ],
      "execution_count": 0,
      "outputs": []
    },
    {
      "metadata": {
        "id": "RdK-4V8dZWmZ",
        "colab_type": "code",
        "colab": {
          "autoexec": {
            "startup": false,
            "wait_interval": 0
          }
        }
      },
      "cell_type": "code",
      "source": [
        "def predict(W, b, X):\n",
        "  Z = np.dot(W.T,X) + b\n",
        "  Y = np.array([1 if y > 0.5 else 0 for y in sigmoid(Z[0])]).reshape(1,len(Z[0]))\n",
        "  return Y"
      ],
      "execution_count": 0,
      "outputs": []
    },
    {
      "metadata": {
        "id": "ai5s9pFFgG5g",
        "colab_type": "code",
        "colab": {
          "autoexec": {
            "startup": false,
            "wait_interval": 0
          }
        }
      },
      "cell_type": "code",
      "source": [
        "(X_cancer, y_cancer) = load_breast_cancer(return_X_y = True)"
      ],
      "execution_count": 0,
      "outputs": []
    },
    {
      "metadata": {
        "id": "uMo835Ov8xqz",
        "colab_type": "code",
        "colab": {
          "autoexec": {
            "startup": false,
            "wait_interval": 0
          }
        }
      },
      "cell_type": "code",
      "source": [
        "X_train, X_test, y_train, y_test = train_test_split(X_cancer, y_cancer,\n",
        "                                                   random_state = 25)"
      ],
      "execution_count": 0,
      "outputs": []
    },
    {
      "metadata": {
        "id": "VR2PXnUDXtNd",
        "colab_type": "code",
        "colab": {
          "autoexec": {
            "startup": false,
            "wait_interval": 0
          }
        }
      },
      "cell_type": "code",
      "source": [
        "def normalize(data):\n",
        "  col_max = np.max(data, axis = 0)\n",
        "  col_min = np.min(data, axis = 0)\n",
        "  return np.divide(data - col_min, col_max - col_min)"
      ],
      "execution_count": 0,
      "outputs": []
    },
    {
      "metadata": {
        "id": "q_X2AV206ZrX",
        "colab_type": "code",
        "colab": {
          "autoexec": {
            "startup": false,
            "wait_interval": 0
          }
        }
      },
      "cell_type": "code",
      "source": [
        "X_train_n = normalize(X_train)\n",
        "X_test_n = normalize(X_test)"
      ],
      "execution_count": 0,
      "outputs": []
    },
    {
      "metadata": {
        "id": "ZgXdiH5QIAjV",
        "colab_type": "code",
        "colab": {
          "autoexec": {
            "startup": false,
            "wait_interval": 0
          }
        }
      },
      "cell_type": "code",
      "source": [
        "X_train_n = X_train_n.T\n",
        "X_test_n = X_test_n.T\n",
        "y_train = y_train.reshape(1,len(y_train))\n",
        "y_test = y_test.reshape(1,len(y_test))"
      ],
      "execution_count": 0,
      "outputs": []
    },
    {
      "metadata": {
        "id": "6mGd_FK7GqHu",
        "colab_type": "code",
        "colab": {
          "autoexec": {
            "startup": false,
            "wait_interval": 0
          }
        }
      },
      "cell_type": "code",
      "source": [
        "parameters = model(X_train_n, y_train, 4000, 0.75)"
      ],
      "execution_count": 0,
      "outputs": []
    },
    {
      "metadata": {
        "id": "2GMgr9M8LqTn",
        "colab_type": "code",
        "colab": {
          "autoexec": {
            "startup": false,
            "wait_interval": 0
          }
        }
      },
      "cell_type": "code",
      "source": [
        "yPredTrain = predict(parameters[\"W\"], parameters[\"b\"], X_train_n)\n",
        "yPredTest = predict(parameters[\"W\"], parameters[\"b\"], X_test_n)"
      ],
      "execution_count": 0,
      "outputs": []
    },
    {
      "metadata": {
        "id": "nIX7sMq7QmCs",
        "colab_type": "code",
        "colab": {
          "autoexec": {
            "startup": false,
            "wait_interval": 0
          }
        }
      },
      "cell_type": "code",
      "source": [
        "print(\"train accuracy: {} %\".format(100 - np.mean(np.abs(yPredTrain - y_train)) * 100))\n",
        "print(\"test accuracy: {} %\".format(100 - np.mean(np.abs(yPredTest - y_test) * 100)))"
      ],
      "execution_count": 0,
      "outputs": []
    }
  ]
}