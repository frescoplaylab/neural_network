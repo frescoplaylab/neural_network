{
 "cells": [
  {
   "cell_type": "markdown",
   "metadata": {
    "colab_type": "text",
    "id": "nF_5oOZ9OEaG"
   },
   "source": [
    "- In this handson you will be building a deep neural network using tensorflow for binary classification\n",
    "- The dataset has two features('feature1' and 'feature2') and one target variable\n",
    "- The target variable(named as 'class') maps each record to either 0 or 1\n",
    "- Some of the necessary pacakges required to read file and data visualization has been imported for you"
   ]
  },
  {
   "cell_type": "code",
   "execution_count": null,
   "metadata": {
    "colab": {
     "autoexec": {
      "startup": false,
      "wait_interval": 0
     }
    },
    "colab_type": "code",
    "collapsed": true,
    "id": "yaDtyHKHVAKL"
   },
   "outputs": [],
   "source": [
    "import pandas as pd\n",
    "import numpy as np\n",
    "import matplotlib.pyplot as plt\n",
    "import matplotlib.colors"
   ]
  },
  {
   "cell_type": "markdown",
   "metadata": {
    "colab_type": "text",
    "id": "ivY_tF8yVKex"
   },
   "source": [
    "The data is provided as file named 'blobs.csv'.  \n",
    "Using pandas read the csv file and assign the resulting dataframe to variable 'data'   \n",
    "for example if file name is 'xyz.csv' read file as **pd.read_csv('xyz.csv')** "
   ]
  },
  {
   "cell_type": "code",
   "execution_count": null,
   "metadata": {
    "colab": {
     "autoexec": {
      "startup": false,
      "wait_interval": 0
     }
    },
    "colab_type": "code",
    "collapsed": true,
    "id": "0BHA1dAKyzw8"
   },
   "outputs": [],
   "source": [
    "##Start code here\n",
    "data =\n",
    "##End code"
   ]
  },
  {
   "cell_type": "markdown",
   "metadata": {
    "colab_type": "text",
    "id": "Mqu-2pe_X9Lh"
   },
   "source": [
    "The following code extacts features and target variable and assign it to variable X and y respectively"
   ]
  },
  {
   "cell_type": "code",
   "execution_count": null,
   "metadata": {
    "colab": {
     "autoexec": {
      "startup": false,
      "wait_interval": 0
     }
    },
    "colab_type": "code",
    "collapsed": true,
    "id": "FWIGNCTBXQal"
   },
   "outputs": [],
   "source": [
    "X = data[['feature1', 'feature2']].values\n",
    "y = data['class'].values"
   ]
  },
  {
   "cell_type": "markdown",
   "metadata": {
    "colab_type": "text",
    "id": "rqCtS1D3Wi44"
   },
   "source": [
    "- Run the below piece of  code to visualize the data in x-y plane.The green and blue dots corresponds to class 0 and 1 respectively\n",
    "- You can see that the data is not linearly seperable i.e you cannot draw one specific boundary to classify the data."
   ]
  },
  {
   "cell_type": "code",
   "execution_count": null,
   "metadata": {
    "colab": {
     "autoexec": {
      "startup": false,
      "wait_interval": 0
     },
     "base_uri": "https://localhost:8080/",
     "height": 362
    },
    "colab_type": "code",
    "collapsed": true,
    "executionInfo": {
     "elapsed": 3460,
     "status": "ok",
     "timestamp": 1525421661303,
     "user": {
      "displayName": "shreyas r bhat",
      "photoUrl": "https://lh3.googleusercontent.com/a/default-user=s128",
      "userId": "100759561434017988779"
     },
     "user_tz": -330
    },
    "id": "OLSGMjm0VGkJ",
    "outputId": "a98cf96c-5f85-44c0-d081-bec131d23f96"
   },
   "outputs": [],
   "source": [
    "colors=['green','blue']\n",
    "cmap = matplotlib.colors.ListedColormap(colors)\n",
    "#Plot the figure\n",
    "plt.figure()\n",
    "plt.title('Non-linearly separable classes')\n",
    "plt.scatter(X[:,0], X[:,1], c=y,\n",
    "           marker= 'o', s=50,cmap=cmap,alpha = 0.5 )\n",
    "plt.show()"
   ]
  },
  {
   "cell_type": "markdown",
   "metadata": {
    "colab_type": "text",
    "id": "q4P65RJZYsPG"
   },
   "source": [
    "- Before diving into deep neural network lets try to classify the data using simple logistic regression.    \n",
    "- The code for logistic regression has been written for you.\n",
    "- Run the below cell to build a simple logistic regression model"
   ]
  },
  {
   "cell_type": "code",
   "execution_count": null,
   "metadata": {
    "colab": {
     "autoexec": {
      "startup": false,
      "wait_interval": 0
     }
    },
    "colab_type": "code",
    "collapsed": true,
    "id": "r988xgU-VJhR"
   },
   "outputs": [],
   "source": [
    "from sklearn.linear_model import LogisticRegression\n",
    "lr_model = LogisticRegression()\n",
    "_ = lr_model.fit(X, y)"
   ]
  },
  {
   "cell_type": "markdown",
   "metadata": {
    "colab_type": "text",
    "id": "9iOGkpy7a_9s"
   },
   "source": [
    "- Run the below cell to define the method to plot the decision boundary.The code for visualization has been written for you."
   ]
  },
  {
   "cell_type": "code",
   "execution_count": null,
   "metadata": {
    "colab": {
     "autoexec": {
      "startup": false,
      "wait_interval": 0
     }
    },
    "colab_type": "code",
    "collapsed": true,
    "id": "9E1hW1sWTGpS"
   },
   "outputs": [],
   "source": [
    "def plot_decision_boundary( X, y, model):\n",
    "    plt.clf()\n",
    "    # Set min and max values and give it some padding\n",
    "    x_min, x_max = X[0, :].min() - 1, X[0, :].max() + 1\n",
    "    y_min, y_max = X[1, :].min() - 1, X[1, :].max() + 1   \n",
    "    colors=['blue','green']\n",
    "    cmap = matplotlib.colors.ListedColormap(colors)   \n",
    "    h = 0.01\n",
    "    # Generate a grid of points with distance h between them\n",
    "    xx, yy = np.meshgrid(np.arange(x_min, x_max, h), np.arange(y_min, y_max, h))\n",
    "    # Predict the function value for the whole grid\n",
    "    A = model(np.c_[xx.ravel(), yy.ravel()])\n",
    "    A = A.reshape(xx.shape)\n",
    "    # Plot the contour and training examples\n",
    "    plt.contourf(xx, yy, A, cmap=\"spring\")\n",
    "    plt.ylabel('x2')\n",
    "    plt.xlabel('x1')\n",
    "    plt.scatter(X[0, :], X[1, :], c=y, s=8,cmap=cmap)\n",
    "    plt.title(\"Decision Boundary for learning rate:\")\n",
    "    plt.show()"
   ]
  },
  {
   "cell_type": "markdown",
   "metadata": {
    "colab_type": "text",
    "id": "bUcmS_pHcg-C"
   },
   "source": [
    "- Run the cell below cell to plot the decision boundary perdicted by logistic regression model"
   ]
  },
  {
   "cell_type": "code",
   "execution_count": null,
   "metadata": {
    "colab": {
     "autoexec": {
      "startup": false,
      "wait_interval": 0
     },
     "base_uri": "https://localhost:8080/",
     "height": 375
    },
    "colab_type": "code",
    "collapsed": true,
    "executionInfo": {
     "elapsed": 2572,
     "status": "ok",
     "timestamp": 1525421677578,
     "user": {
      "displayName": "shreyas r bhat",
      "photoUrl": "https://lh3.googleusercontent.com/a/default-user=s128",
      "userId": "100759561434017988779"
     },
     "user_tz": -330
    },
    "id": "vp-RxZo-VU1y",
    "outputId": "b0b06677-3934-42d6-ee4c-fdf1636c8ee8"
   },
   "outputs": [],
   "source": [
    "plot_decision_boundary(X.T,y,lambda x: lr_model.predict(x))"
   ]
  },
  {
   "cell_type": "markdown",
   "metadata": {
    "colab_type": "text",
    "id": "qclXBCTgeNt1"
   },
   "source": [
    "- From the above plot you can say that simple logistic regression poorly perfroms in classifying the data since the decision boundary is not able to effectively classify the two classes.\n",
    "- Now build a deep neural network to classify the same data.  \n",
    "Preparing the data:  \n",
    "    - Transpose X so that rows represents the features and column represents samples. Assig the resulting array to variable X_data\n",
    "    - Reshape data y to a row vector whose length equal to number of samples.Assign the resulting vector to variable y_data"
   ]
  },
  {
   "cell_type": "code",
   "execution_count": null,
   "metadata": {
    "colab": {
     "autoexec": {
      "startup": false,
      "wait_interval": 0
     }
    },
    "colab_type": "code",
    "collapsed": true,
    "id": "XchlAZPwHpMk"
   },
   "outputs": [],
   "source": [
    "##Start code here\n",
    "X_data = \n",
    "y_data = \n",
    "##End code"
   ]
  },
  {
   "cell_type": "markdown",
   "metadata": {
    "colab_type": "text",
    "id": "BLmAVwJihR9e"
   },
   "source": [
    "Define the layer dimension as an array  called **'layer_dims'**  with one input layer **equal to number of features**, **two hidden layer** with **nine nodes** each and **one final output layer** with** one node**.\n"
   ]
  },
  {
   "cell_type": "code",
   "execution_count": null,
   "metadata": {
    "colab": {
     "autoexec": {
      "startup": false,
      "wait_interval": 0
     }
    },
    "colab_type": "code",
    "collapsed": true,
    "id": "t_dEEaJykLSa"
   },
   "outputs": [],
   "source": [
    "##Start code here\n",
    "layer_dims = \n",
    "##End code"
   ]
  },
  {
   "cell_type": "markdown",
   "metadata": {
    "colab_type": "text",
    "id": "DMwiUP00ih3f"
   },
   "source": [
    "Import tensorflow package as tf"
   ]
  },
  {
   "cell_type": "code",
   "execution_count": null,
   "metadata": {
    "colab": {
     "autoexec": {
      "startup": false,
      "wait_interval": 0
     }
    },
    "colab_type": "code",
    "collapsed": true,
    "id": "f2ZacZAzionM"
   },
   "outputs": [],
   "source": [
    "##Start code here\n",
    "\n",
    "##End code"
   ]
  },
  {
   "cell_type": "markdown",
   "metadata": {
    "colab_type": "text",
    "id": "uhy9yWCjjMKU"
   },
   "source": [
    "Define a function named placeholders to return two placeholders one for input data as A_0 and one for output data as Y.\n",
    "- Set the datatype of placeholders as float64\n",
    "- parameters - num_features\n",
    "- Returns - A_0 with shape (num_feature, None) and Y with shape(1,None)\n"
   ]
  },
  {
   "cell_type": "code",
   "execution_count": null,
   "metadata": {
    "colab": {
     "autoexec": {
      "startup": false,
      "wait_interval": 0
     }
    },
    "colab_type": "code",
    "collapsed": true,
    "id": "4kp4_9kS58CT"
   },
   "outputs": [],
   "source": [
    "def placeholders(num_features):\n",
    "  ##Start code here\n",
    "  A_0 = \n",
    "  Y = \n",
    "  return A_0,Y\n",
    "  ##End code"
   ]
  },
  {
   "cell_type": "markdown",
   "metadata": {
    "colab_type": "text",
    "id": "RwKEyi4Ilt1z"
   },
   "source": [
    "Define function named initialize_parameters_deep() to initialize weights and bias for each layer\n",
    "- Use tf.random_normal() to initialise weights and tf.zeros() to initialise bias. Set datatype as float64\n",
    "- Parameters - layer_dims\n",
    "- Returns - dictionary of weights and bias"
   ]
  },
  {
   "cell_type": "code",
   "execution_count": null,
   "metadata": {
    "colab": {
     "autoexec": {
      "startup": false,
      "wait_interval": 0
     }
    },
    "colab_type": "code",
    "collapsed": true,
    "id": "W3l_vyXVkrlw"
   },
   "outputs": [],
   "source": [
    "def initialize_parameters_deep(layer_dims):\n",
    "  L = len(layer_dims)\n",
    "  parameters = {}\n",
    "  for l in range(1,L):\n",
    "    parameters['W' + str(l)] = \n",
    "    parameters['b' + str(l)] = \n",
    " \n",
    "  \n",
    "  return parameters "
   ]
  },
  {
   "cell_type": "markdown",
   "metadata": {
    "colab_type": "text",
    "id": "vfU0G06ZorGP"
   },
   "source": [
    "Define functon named linear_forward_prop() to define forward propagation for a given layer.\n",
    "- parameters: A_prev(output from previous layer), W(weigth matrix of current layer), b(bias vector for current layer),activation(type of activation to be used for out of current layer)  \n",
    "- returns: A(output from the current layer)\n",
    "- Use relu activation for hidden layers and for final output layer return the output unactivated i.e if activation is sigmoid"
   ]
  },
  {
   "cell_type": "code",
   "execution_count": null,
   "metadata": {
    "colab": {
     "autoexec": {
      "startup": false,
      "wait_interval": 0
     }
    },
    "colab_type": "code",
    "collapsed": true,
    "id": "SKbSUt5g4toV"
   },
   "outputs": [],
   "source": [
    "def linear_forward_prop(A_prev,W,b, activation):\n",
    "  Z = \n",
    "  if activation == \"sigmoid\":\n",
    "    A = \n",
    "  elif activation == \"relu\":\n",
    "    A =                                              #apply relu activation on Z using tf.nn.relu() function\n",
    "  return A"
   ]
  },
  {
   "cell_type": "markdown",
   "metadata": {
    "colab_type": "text",
    "id": "AIar8Y7yqZYv"
   },
   "source": [
    "Define forward propagation for entire network as l_layer_forward()\n",
    "- Parameters: A_0(input data), parameters(dictionary of weights and bias)\n",
    "- returns: A(output from final layer)"
   ]
  },
  {
   "cell_type": "code",
   "execution_count": null,
   "metadata": {
    "colab": {
     "autoexec": {
      "startup": false,
      "wait_interval": 0
     }
    },
    "colab_type": "code",
    "collapsed": true,
    "id": "Cdks1w__k-Ei"
   },
   "outputs": [],
   "source": [
    "def l_layer_forwardProp(A_0, parameters):\n",
    "  A = A_0\n",
    "  L = len(parameters)//2\n",
    "  for l in range(1,L):\n",
    "    A_prev = A\n",
    "    A = \n",
    "  A_final = linear_forward_prop(A, parameters['W' + str(L)], parameters['b' + str(L)], \"sigmoid\" )\n",
    "  return A_final"
   ]
  },
  {
   "cell_type": "markdown",
   "metadata": {
    "colab_type": "text",
    "id": "egBl9MRUq9XQ"
   },
   "source": [
    "- Define the model as deep_layer_network()\n",
    "- Parameters: X(input data), Y(output data), layer_dims, learning_rate, num_iter(number of iterations)\n",
    "- returns: parameters ( dictionary of updated weights and bias)"
   ]
  },
  {
   "cell_type": "code",
   "execution_count": null,
   "metadata": {
    "colab": {
     "autoexec": {
      "startup": false,
      "wait_interval": 0
     }
    },
    "colab_type": "code",
    "collapsed": true,
    "id": "HLZ_K8nNopoH"
   },
   "outputs": [],
   "source": [
    "def deep_layer_network(X_data,y_data, layer_dims, learning_rate, num_iter):\n",
    "  num_features = layer_dims[0]\n",
    "  A_0, Y =                                         #call placeholder function to initialize placeholders A_0 and Y\n",
    "  parameters =                                     #Initialse Weights and bias using initialize_parameters_deep() with layer_dims as parameters  \n",
    "  Z_final =                                        #call the function l_layer_forwardProp() to define the final output\n",
    "  cost =                                           #define the mean cost using sigmoid cross entropy function\n",
    "  train_net =                                      #call tensorflow's gradient descent optimizer function with minimize cost  \n",
    "  init = tf.global_variables_initializer()    \n",
    "  \n",
    "  with tf.Session() as sess:\n",
    "    sess.run(init)\n",
    "    for i in range(num_iter):\n",
    "      _,c = sess.run([train_net, cost], feed_dict={A_0: X_data, Y: y_data})\n",
    "      if i % 1000 == 0:\n",
    "        print(c)\n",
    "    with open(\"Output.txt\", \"w\") as text_file:\n",
    "      text_file.write(\"c= %f\\n\" % c)\n",
    "    params = sess.run(parameters)\n",
    "  return params"
   ]
  },
  {
   "cell_type": "markdown",
   "metadata": {
    "colab_type": "text",
    "id": "rmmfTGv8t4Qr"
   },
   "source": [
    "- Train the deep neural network with learning rate 0.3 and number of iterations to 10000\n",
    "- Use X_data and Y_data to train the network"
   ]
  },
  {
   "cell_type": "code",
   "execution_count": null,
   "metadata": {
    "colab": {
     "autoexec": {
      "startup": false,
      "wait_interval": 0
     },
     "base_uri": "https://localhost:8080/",
     "height": 194
    },
    "colab_type": "code",
    "collapsed": true,
    "executionInfo": {
     "elapsed": 24013,
     "status": "ok",
     "timestamp": 1525417757918,
     "user": {
      "displayName": "shreyas r bhat",
      "photoUrl": "https://lh3.googleusercontent.com/a/default-user=s128",
      "userId": "100759561434017988779"
     },
     "user_tz": -330
    },
    "id": "B2qeMlAP3UcS",
    "outputId": "3e940a1e-274b-458b-a96e-23fc71fdf3ed"
   },
   "outputs": [],
   "source": [
    "parameters = deep_layer_network()    #fill the parameters "
   ]
  },
  {
   "cell_type": "markdown",
   "metadata": {
    "colab_type": "text",
    "id": "142Wvb6wusxF"
   },
   "source": [
    "Run the cell below to define the method to predict outputof the model for given input and parameters.The code has been written for you"
   ]
  },
  {
   "cell_type": "code",
   "execution_count": null,
   "metadata": {
    "colab": {
     "autoexec": {
      "startup": false,
      "wait_interval": 0
     }
    },
    "colab_type": "code",
    "collapsed": true,
    "id": "uR2nLVZBPIPG"
   },
   "outputs": [],
   "source": [
    "def predict(A_0, parameters):\n",
    "  with tf.Session() as sess:\n",
    "    Z = l_layer_forwardProp(A_0, parameters)\n",
    "    A = sess.run(tf.round(tf.sigmoid(Z)))\n",
    "  return A"
   ]
  },
  {
   "cell_type": "markdown",
   "metadata": {
    "colab_type": "text",
    "id": "pSVubgCJvSlr"
   },
   "source": [
    "Run the below cell to plot the decision boundary predicted by the deep nural network"
   ]
  },
  {
   "cell_type": "code",
   "execution_count": null,
   "metadata": {
    "colab": {
     "autoexec": {
      "startup": false,
      "wait_interval": 0
     },
     "base_uri": "https://localhost:8080/",
     "height": 375
    },
    "colab_type": "code",
    "collapsed": true,
    "executionInfo": {
     "elapsed": 16955,
     "status": "ok",
     "timestamp": 1525417775992,
     "user": {
      "displayName": "shreyas r bhat",
      "photoUrl": "https://lh3.googleusercontent.com/a/default-user=s128",
      "userId": "100759561434017988779"
     },
     "user_tz": -330
    },
    "id": "7CHq32UHRbaF",
    "outputId": "36e9387a-5b3f-47ee-a423-6d237c7b16f7"
   },
   "outputs": [],
   "source": [
    "plot_decision_boundary(X_data,y,lambda x: predict(x.T,parameters))"
   ]
  }
 ],
 "metadata": {
  "colab": {
   "collapsed_sections": [],
   "default_view": {},
   "name": "DNN_hands_on_question.ipynb",
   "provenance": [
    {
     "file_id": "1aBBLAewDao6vDP4xRusFkcrNFJydbbAB",
     "timestamp": 1525424154229
    },
    {
     "file_id": "1i6MJxD7kd04W6ojetXVPsNUeA4qGg6Zq",
     "timestamp": 1525158878710
    }
   ],
   "version": "0.3.2",
   "views": {}
  },
  "kernelspec": {
   "display_name": "Python 3",
   "language": "python",
   "name": "python3"
  },
  "language_info": {
   "codemirror_mode": {
    "name": "ipython",
    "version": 3
   },
   "file_extension": ".py",
   "mimetype": "text/x-python",
   "name": "python",
   "nbconvert_exporter": "python",
   "pygments_lexer": "ipython3",
   "version": "3.6.3"
  }
 },
 "nbformat": 4,
 "nbformat_minor": 1
}
