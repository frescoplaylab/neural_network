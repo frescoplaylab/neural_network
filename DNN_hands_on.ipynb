{
 "cells": [
  {
   "cell_type": "markdown",
   "metadata": {
    "colab_type": "text",
    "id": "ld2wHkzA8K2e"
   },
   "source": [
    "- Import numpy as np and pandas as pd"
   ]
  },
  {
   "cell_type": "code",
   "execution_count": 0,
   "metadata": {
    "colab": {
     "autoexec": {
      "startup": false,
      "wait_interval": 0
     }
    },
    "colab_type": "code",
    "collapsed": true,
    "id": "0zQIrieYs0N9"
   },
   "outputs": [],
   "source": [
    "import numpy as np\n",
    "import pandas as pd\n",
    "from sklearn.model_selection import train_test_split\n",
    "from sklearn.datasets import load_breast_cancer"
   ]
  },
  {
   "cell_type": "markdown",
   "metadata": {
    "colab_type": "text",
    "id": "5wsb69rS8abF"
   },
   "source": [
    "Define method initialiseNetwork() initilise weights with zeros of shape(num_features, 1) and also bias b to zero\n",
    "- parameters: num_features(number of input features)\n",
    "- returns : dictionary of weight vector and bias"
   ]
  },
  {
   "cell_type": "code",
   "execution_count": 0,
   "metadata": {
    "colab": {
     "autoexec": {
      "startup": false,
      "wait_interval": 0
     }
    },
    "colab_type": "code",
    "collapsed": true,
    "id": "i-wLAlQb2Drk"
   },
   "outputs": [],
   "source": [
    "def initialiseNetwork(num_features):\n",
    "  W = \n",
    "  b = \n",
    "  parameters = {\"W\": W, \"b\": b}\n",
    "  return parameters"
   ]
  },
  {
   "cell_type": "markdown",
   "metadata": {
    "colab_type": "text",
    "id": "g2iUMm9XEW-s"
   },
   "source": [
    "define function sigmoid for the input z.  \n",
    "- parameters: z\n",
    "- returns: $1/(1+e^{(-z)})$"
   ]
  },
  {
   "cell_type": "code",
   "execution_count": 0,
   "metadata": {
    "colab": {
     "autoexec": {
      "startup": false,
      "wait_interval": 0
     }
    },
    "colab_type": "code",
    "collapsed": true,
    "id": "a_KB1o_e9S8F"
   },
   "outputs": [],
   "source": [
    "def sigmoid(z):\n",
    "  a = \n",
    "  return a"
   ]
  },
  {
   "cell_type": "markdown",
   "metadata": {
    "colab_type": "text",
    "id": "G6TAbtJAFSva"
   },
   "source": [
    "Define method forwardPropagation() which implements forward propagtion defined as Z = (W.T dot_product X) + b, A = sigmoid(Z)\n",
    "- parameters: X, parameters\n",
    "- returns: A\n"
   ]
  },
  {
   "cell_type": "code",
   "execution_count": 0,
   "metadata": {
    "colab": {
     "autoexec": {
      "startup": false,
      "wait_interval": 0
     }
    },
    "colab_type": "code",
    "collapsed": true,
    "id": "l6FZS2nj92ev"
   },
   "outputs": [],
   "source": [
    "def forwardPropagation(X, parameters):\n",
    "  W =\n",
    "  b = \n",
    "  Z = \n",
    "  A = \n",
    "  return A"
   ]
  },
  {
   "cell_type": "markdown",
   "metadata": {
    "colab_type": "text",
    "id": "IhMJx-ezHXWx"
   },
   "source": [
    "Define function cost() which calculate the cost given by  −(sum(Y\\*log(A)+(1−Y)\\*log(1−A)))/num_samples, here * is elementwise product\n",
    "- parameters: A,Y,num_samples(number of samples)\n",
    "- returns: cost"
   ]
  },
  {
   "cell_type": "code",
   "execution_count": 0,
   "metadata": {
    "colab": {
     "autoexec": {
      "startup": false,
      "wait_interval": 0
     }
    },
    "colab_type": "code",
    "collapsed": true,
    "id": "n52Rl7oCBj1L"
   },
   "outputs": [],
   "source": [
    "def cost(A, Y, num_samples):\n",
    "  cost = \n",
    "  return cost"
   ]
  },
  {
   "cell_type": "markdown",
   "metadata": {
    "colab_type": "text",
    "id": "jxXnhjd6ItFC"
   },
   "source": [
    "Define method backPropgation() to get the derivatives of weigths and bias\n",
    "- parameters: X,Y,A,num_samples\n",
    "- returns: dW,db"
   ]
  },
  {
   "cell_type": "code",
   "execution_count": 0,
   "metadata": {
    "colab": {
     "autoexec": {
      "startup": false,
      "wait_interval": 0
     }
    },
    "colab_type": "code",
    "collapsed": true,
    "id": "U0ijyoESSGRT"
   },
   "outputs": [],
   "source": [
    "def backPropagration(X, Y, A, num_samples):\n",
    "  dZ =                           \n",
    "  dW =                                #(X dot_product dZ.T)/num_samples\n",
    "  db =                                #sum(dZ)/num_samples\n",
    "  return dW, db\n",
    "  "
   ]
  },
  {
   "cell_type": "markdown",
   "metadata": {
    "colab_type": "text",
    "id": "Yrclev_VKliY"
   },
   "source": [
    "Define function updateParameters() to update current parameters with its derivatives  \n",
    "w = w - learning_rate \\* dw  \n",
    "b = b - learning_rate \\* db  \n",
    "parameters: parameters,dW,db, learning_rate   \n",
    "returns: dictionary of updated parameters"
   ]
  },
  {
   "cell_type": "code",
   "execution_count": 0,
   "metadata": {
    "colab": {
     "autoexec": {
      "startup": false,
      "wait_interval": 0
     }
    },
    "colab_type": "code",
    "collapsed": true,
    "id": "9K1ubERjUdKj"
   },
   "outputs": [],
   "source": [
    "def updateParameters(parameters, dW, db, learning_rate):\n",
    "  W =\n",
    "  b = \n",
    "  return {\"W\": W, \"b\": b}\n",
    "  "
   ]
  },
  {
   "cell_type": "markdown",
   "metadata": {
    "colab_type": "text",
    "id": "zKd5Nsvht5W7"
   },
   "source": [
    "Define the model for forward propagation  \n",
    "- parameters: X,Y, num_iter(number of iterations), learning_rate\n",
    "- returns: parameters(dictionary of updated weights and bias)"
   ]
  },
  {
   "cell_type": "code",
   "execution_count": 0,
   "metadata": {
    "colab": {
     "autoexec": {
      "startup": false,
      "wait_interval": 0
     }
    },
    "colab_type": "code",
    "collapsed": true,
    "id": "_QP4zvtoWkzw"
   },
   "outputs": [],
   "source": [
    "def model(X, Y, num_iter, learning_rate):\n",
    "  num_features = X.shape[0]\n",
    "  num_samples = X.shape[1]\n",
    "  parameters =                                                     #call initialiseNetwork()\n",
    "  for i in range(num_iter):\n",
    "    A =                                                            # calculate final output A from forwardPropagation()\n",
    "    if(i%100 == 0):\n",
    "      print(\"cost after {} iteration: {}\".format(i, cost(A, Y, num_samples)))\n",
    "    dW, db =                                                       # calculate  derivatives from backpropagation\n",
    "    parameters =                                                   # update parameters\n",
    "  return parameters\n",
    "    \n",
    "    \n",
    "  "
   ]
  },
  {
   "cell_type": "markdown",
   "metadata": {
    "colab_type": "text",
    "id": "ISQKBz3DoY_h"
   },
   "source": [
    "- Run the below cell to define the function to predict the output.It takes updated parameters and input data as function parameters and returns the predicted output"
   ]
  },
  {
   "cell_type": "code",
   "execution_count": 0,
   "metadata": {
    "colab": {
     "autoexec": {
      "startup": false,
      "wait_interval": 0
     }
    },
    "colab_type": "code",
    "collapsed": true,
    "id": "RdK-4V8dZWmZ"
   },
   "outputs": [],
   "source": [
    "def predict(W, b, X):\n",
    "  Z = np.dot(W.T,X) + b\n",
    "  Y = np.array([1 if y > 0.5 else 0 for y in sigmoid(Z[0])]).reshape(1,len(Z[0]))\n",
    "  return Y"
   ]
  },
  {
   "cell_type": "markdown",
   "metadata": {
    "colab_type": "text",
    "id": "RN1AAlHbo7XF"
   },
   "source": [
    "- The code in the below cell loads the breast cancer data set from sklearn.\n",
    "- The input variable(X_cancer) is about the dimensions of tumor cell and targrt variable(y_cancer) classifies tumor as malignant(0) or benign(1)"
   ]
  },
  {
   "cell_type": "code",
   "execution_count": 0,
   "metadata": {
    "colab": {
     "autoexec": {
      "startup": false,
      "wait_interval": 0
     }
    },
    "colab_type": "code",
    "collapsed": true,
    "id": "ai5s9pFFgG5g"
   },
   "outputs": [],
   "source": [
    "(X_cancer, y_cancer) = load_breast_cancer(return_X_y = True)\n"
   ]
  },
  {
   "cell_type": "markdown",
   "metadata": {
    "colab_type": "text",
    "id": "jUzT0JXXszzy"
   },
   "source": [
    "- Split the data into train and test set using train_test_split(). Set the random state to 25. Refer the code snippet in topic 4"
   ]
  },
  {
   "cell_type": "code",
   "execution_count": 0,
   "metadata": {
    "colab": {
     "autoexec": {
      "startup": false,
      "wait_interval": 0
     }
    },
    "colab_type": "code",
    "collapsed": true,
    "id": "nw_FdO__3dsF"
   },
   "outputs": [],
   "source": [
    "X_train, X_test, y_train, y_test = train_test_split(X_cancer, y_cancer,\n",
    "                                                   random_state = 25)"
   ]
  },
  {
   "cell_type": "markdown",
   "metadata": {
    "colab_type": "text",
    "id": "t-ZRhhx0sGR7"
   },
   "source": [
    "Since the dimensions of tumor is not uniform you need to normalize the data before feeding to the network\n",
    "- The below function is used to normalize the input data."
   ]
  },
  {
   "cell_type": "code",
   "execution_count": 0,
   "metadata": {
    "colab": {
     "autoexec": {
      "startup": false,
      "wait_interval": 0
     }
    },
    "colab_type": "code",
    "collapsed": true,
    "id": "VR2PXnUDXtNd"
   },
   "outputs": [],
   "source": [
    "def normalize(data):\n",
    "  col_max = np.max(data, axis = 0)\n",
    "  col_min = np.min(data, axis = 0)\n",
    "  return np.divide(data - col_min, col_max - col_min)"
   ]
  },
  {
   "cell_type": "markdown",
   "metadata": {
    "colab_type": "text",
    "id": "39IvMOIzt_fS"
   },
   "source": [
    "- Normalize X_train and X_test and assign it to X_train_n and X_test_n respectively"
   ]
  },
  {
   "cell_type": "code",
   "execution_count": 0,
   "metadata": {
    "colab": {
     "autoexec": {
      "startup": false,
      "wait_interval": 0
     }
    },
    "colab_type": "code",
    "collapsed": true,
    "id": "ZgXdiH5QIAjV"
   },
   "outputs": [],
   "source": [
    "X_train_n = \n",
    "X_test_n = "
   ]
  },
  {
   "cell_type": "markdown",
   "metadata": {
    "colab_type": "text",
    "id": "agS5nYAtuUng"
   },
   "source": [
    "- Transpose X_train_n and X_test_n so that rows represents features and column represents the samples\n",
    "- Reshape Y_train and y_test into row vector whose length is equal to number of samples.Use np.reshape()\n",
    "\n"
   ]
  },
  {
   "cell_type": "code",
   "execution_count": 0,
   "metadata": {
    "colab": {
     "autoexec": {
      "startup": false,
      "wait_interval": 0
     }
    },
    "colab_type": "code",
    "collapsed": true,
    "id": "yNFw2Gos9zZe"
   },
   "outputs": [],
   "source": [
    "X_trainT = \n",
    "X_testT = \n",
    "y_trainT = \n",
    "y_testT = "
   ]
  },
  {
   "cell_type": "markdown",
   "metadata": {
    "colab_type": "text",
    "id": "GP3WCFJbv-xE"
   },
   "source": [
    "Train the network using X_trainT,y_trainT with number of iterations 4000 and learning rate 0.75"
   ]
  },
  {
   "cell_type": "code",
   "execution_count": 0,
   "metadata": {
    "colab": {
     "autoexec": {
      "startup": false,
      "wait_interval": 0
     }
    },
    "colab_type": "code",
    "collapsed": true,
    "id": "6mGd_FK7GqHu"
   },
   "outputs": [],
   "source": [
    "parameters =                     #call the model() function with parametrs mentioned in the above cell"
   ]
  },
  {
   "cell_type": "markdown",
   "metadata": {
    "colab_type": "text",
    "id": "_YEgmlbxx11F"
   },
   "source": [
    "Predict the output of test and train data using X_trainT and X_testT using predict() method> Use the parametes returned from the trained model\n"
   ]
  },
  {
   "cell_type": "code",
   "execution_count": 0,
   "metadata": {
    "colab": {
     "autoexec": {
      "startup": false,
      "wait_interval": 0
     }
    },
    "colab_type": "code",
    "collapsed": true,
    "id": "2GMgr9M8LqTn"
   },
   "outputs": [],
   "source": [
    "yPredTrain = predict()   # pass weigths and bias from parameters dictionary and X_trainT as input to the function\n",
    "yPredTest = predict()    # pass the same parameters but X_testT as input data"
   ]
  },
  {
   "cell_type": "markdown",
   "metadata": {
    "colab_type": "text",
    "id": "Uv1oAgLW1a1E"
   },
   "source": [
    "Run the below cell print the accuracy of model on train and test data."
   ]
  },
  {
   "cell_type": "code",
   "execution_count": 0,
   "metadata": {
    "colab": {
     "autoexec": {
      "startup": false,
      "wait_interval": 0
     }
    },
    "colab_type": "code",
    "collapsed": true,
    "id": "nIX7sMq7QmCs"
   },
   "outputs": [],
   "source": [
    "accuracy_train = 100 - np.mean(np.abs(yPredTrain - y_trainT)) * 100\n",
    "accuracy_test = 100 - np.mean(np.abs(yPredTest - y_testT)) * 100\n",
    "print(\"train accuracy: {} %\".format(accuracy_train))\n",
    "print(\"test accuracy: {} %\".format(accuracy_test))\n",
    "with open(\"Output.txt\", \"w\") as text_file:\n",
    "  text_file.write(\"train= %f\\n\" % accuracy_train)\n",
    "  text_file.write(\"test= %f\" % accuracy_test)"
   ]
  },
  {
   "cell_type": "code",
   "execution_count": 0,
   "metadata": {
    "colab": {
     "autoexec": {
      "startup": false,
      "wait_interval": 0
     }
    },
    "colab_type": "code",
    "collapsed": true,
    "id": "6RDW0GQbGWcU"
   },
   "outputs": [],
   "source": []
  },
  {
   "cell_type": "code",
   "execution_count": 0,
   "metadata": {
    "colab": {
     "autoexec": {
      "startup": false,
      "wait_interval": 0
     }
    },
    "colab_type": "code",
    "collapsed": true,
    "id": "1d4w6pyXGZnk"
   },
   "outputs": [],
   "source": []
  },
  {
   "cell_type": "code",
   "execution_count": 0,
   "metadata": {
    "colab": {
     "autoexec": {
      "startup": false,
      "wait_interval": 0
     }
    },
    "colab_type": "code",
    "collapsed": true,
    "id": "cs4swwDePrKZ"
   },
   "outputs": [],
   "source": []
  },
  {
   "cell_type": "code",
   "execution_count": 0,
   "metadata": {
    "colab": {
     "autoexec": {
      "startup": false,
      "wait_interval": 0
     }
    },
    "colab_type": "code",
    "collapsed": true,
    "id": "bzcBM4bUTV5Y"
   },
   "outputs": [],
   "source": []
  }
 ],
 "metadata": {
  "colab": {
   "collapsed_sections": [],
   "default_view": {},
   "name": "basic_neural_net_question.ipynb",
   "provenance": [
    {
     "file_id": "1TvidTe-M5zDO1MDKJCBMnkMGgXbCxYA4",
     "timestamp": 1525431729338
    }
   ],
   "version": "0.3.2",
   "views": {}
  },
  "kernelspec": {
   "display_name": "Python 3",
   "language": "python",
   "name": "python3"
  },
  "language_info": {
   "codemirror_mode": {
    "name": "ipython",
    "version": 3
   },
   "file_extension": ".py",
   "mimetype": "text/x-python",
   "name": "python",
   "nbconvert_exporter": "python",
   "pygments_lexer": "ipython3",
   "version": "3.6.3"
  }
 },
 "nbformat": 4,
 "nbformat_minor": 1
}
